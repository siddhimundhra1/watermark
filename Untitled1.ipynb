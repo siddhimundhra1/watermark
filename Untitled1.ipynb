{
  "nbformat": 4,
  "nbformat_minor": 0,
  "metadata": {
    "colab": {
      "provenance": [],
      "gpuType": "T4",
      "mount_file_id": "1dV0QW4yim-Yc7iaGLbr5V4vPvHA1e8GZ",
      "authorship_tag": "ABX9TyPDLoI2Zi+L6tBv+3bGhidu",
      "include_colab_link": true
    },
    "kernelspec": {
      "name": "python3",
      "display_name": "Python 3"
    },
    "language_info": {
      "name": "python"
    },
    "accelerator": "GPU"
  },
  "cells": [
    {
      "cell_type": "markdown",
      "metadata": {
        "id": "view-in-github",
        "colab_type": "text"
      },
      "source": [
        "<a href=\"https://colab.research.google.com/github/siddhimundhra1/watermark/blob/main/Untitled1.ipynb\" target=\"_parent\"><img src=\"https://colab.research.google.com/assets/colab-badge.svg\" alt=\"Open In Colab\"/></a>"
      ]
    },
    {
      "cell_type": "code",
      "execution_count": null,
      "metadata": {
        "colab": {
          "base_uri": "https://localhost:8080/"
        },
        "id": "ClEePKXgoxmt",
        "outputId": "ad813f90-be6f-4b8b-f766-38ac21549b6e"
      },
      "outputs": [
        {
          "output_type": "stream",
          "name": "stdout",
          "text": [
            "✅ GPU is available!\n",
            "/usr/local/lib/python3.11/dist-packages/gradio_client/documentation.py:106: UserWarning: Could not get documentation group for <class 'gradio.mix.Parallel'>: No known documentation group for module 'gradio.mix'\n",
            "  warnings.warn(f\"Could not get documentation group for {cls}: {exc}\")\n",
            "/usr/local/lib/python3.11/dist-packages/gradio_client/documentation.py:106: UserWarning: Could not get documentation group for <class 'gradio.mix.Series'>: No known documentation group for module 'gradio.mix'\n",
            "  warnings.warn(f\"Could not get documentation group for {cls}: {exc}\")\n",
            "Namespace(run_gradio=True, demo_public=True, model_name_or_path='facebook/opt-1.3b', load_fp16=False, prompt_max_length=None, max_new_tokens=200, generation_seed=123, use_sampling=True, n_beams=1, sampling_temp=0.7, use_gpu=True, seeding_scheme='simple_1', gamma=0.25, delta=2.0, normalizers=[], ignore_repeated_bigrams=False, detection_z_threshold=4.0, select_green_tokens=True, skip_model_load=False, seed_separately=True)\n",
            "2025-02-27 04:46:10.389440: E external/local_xla/xla/stream_executor/cuda/cuda_fft.cc:477] Unable to register cuFFT factory: Attempting to register factory for plugin cuFFT when one has already been registered\n",
            "WARNING: All log messages before absl::InitializeLog() is called are written to STDERR\n",
            "E0000 00:00:1740631570.411826    7343 cuda_dnn.cc:8310] Unable to register cuDNN factory: Attempting to register factory for plugin cuDNN when one has already been registered\n",
            "E0000 00:00:1740631570.418638    7343 cuda_blas.cc:1418] Unable to register cuBLAS factory: Attempting to register factory for plugin cuBLAS when one has already been registered\n",
            "################################################################################\n",
            "Prompt:\n",
            "The diamondback terrapin or simply terrapin (Malaclemys terrapin) is a species of turtle native to the brackish coastal tidal marshes of the Northeastern and southern United States, and in Bermuda.[6] It belongs to the monotypic genus Malaclemys. It has one of the largest ranges of all turtles in North America, stretching as far south as the Florida Keys and as far north as Cape Cod.[7] The name 'terrapin' is derived from the Algonquian word torope.[8] It applies to Malaclemys terrapin in both British English and American English. The name originally was used by early European settlers in North America to describe these brackish-water turtles that inhabited neither freshwater habitats nor the sea. It retains this primary meaning in American English.[8] In British English, however, other semi-aquatic turtle species, such as the red-eared slider, might also be called terrapins. The common name refers to the diamond pattern on top of its shell (carapace), but the overall pattern and coloration vary greatly. The shell is usually wider at the back than in the front, and from above it appears wedge-shaped. The shell coloring can vary from brown to grey, and its body color can be grey, brown, yellow, or white. All have a unique pattern of wiggly, black markings or spots on their body and head. The diamondback terrapin has large webbed feet.[9] The species is\n",
            "Generating with Namespace(run_gradio=True, demo_public=True, model_name_or_path='facebook/opt-1.3b', load_fp16=False, prompt_max_length=None, max_new_tokens=200, generation_seed=123, use_sampling=True, n_beams=1, sampling_temp=0.7, use_gpu=True, seeding_scheme='simple_1', gamma=0.25, delta=2.0, normalizers=[], ignore_repeated_bigrams=False, detection_z_threshold=4.0, select_green_tokens=True, skip_model_load=False, seed_separately=True, is_seq2seq_model=False, is_decoder_only_model=True, default_prompt=\"The diamondback terrapin or simply terrapin (Malaclemys terrapin) is a species of turtle native to the brackish coastal tidal marshes of the Northeastern and southern United States, and in Bermuda.[6] It belongs to the monotypic genus Malaclemys. It has one of the largest ranges of all turtles in North America, stretching as far south as the Florida Keys and as far north as Cape Cod.[7] The name 'terrapin' is derived from the Algonquian word torope.[8] It applies to Malaclemys terrapin in both British English and American English. The name originally was used by early European settlers in North America to describe these brackish-water turtles that inhabited neither freshwater habitats nor the sea. It retains this primary meaning in American English.[8] In British English, however, other semi-aquatic turtle species, such as the red-eared slider, might also be called terrapins. The common name refers to the diamond pattern on top of its shell (carapace), but the overall pattern and coloration vary greatly. The shell is usually wider at the back than in the front, and from above it appears wedge-shaped. The shell coloring can vary from brown to grey, and its body color can be grey, brown, yellow, or white. All have a unique pattern of wiggly, black markings or spots on their body and head. The diamondback terrapin has large webbed feet.[9] The species is\")\n",
            "################################################################################\n",
            "Output without watermark:\n",
            " listed as Vulnerable in the IUCN Red List of Threatened Species.[10]\n",
            "\n",
            "The diamondback terrapin and other turtles often are kept as pets, and are collected as food by people and other animals. In North America, it is often kept as a pet, and various species are often kept as pets. This is especially so in the Southeast, where it is a common pet. In the Northeast, it is a rare pet, and has not been kept as a pet since the 1960s.[11] The diamondback terrapin is a solitary turtle, and is typically kept in individual tanks.[12]\n",
            "\n",
            "The diamondback terrapin is an arboreal species, which means it lives most of its life in trees. Its diet consists of invertebrates, small fish, and smaller turtles. It spends much of its time in the canopy of the tree, and relies on its webbed feet for upward movement. It can climb a tree to great\n",
            "--------------------------------------------------------------------------------\n",
            "Detection result @ 4.0:\n",
            "([['Tokens Counted (T)', '199'],\n",
            "  ['# Tokens in Greenlist', '53'],\n",
            "  ['Fraction of T in Greenlist', '26.6%'],\n",
            "  ['z-score', '0.532'],\n",
            "  ['p value', '0.297'],\n",
            "  ['z-score Threshold', '4.0'],\n",
            "  ['Prediction', 'Human/Unwatermarked']],\n",
            " Namespace(run_gradio=True, demo_public=True, model_name_or_path='facebook/opt-1.3b', load_fp16=False, prompt_max_length=1848, max_new_tokens=200, generation_seed=123, use_sampling=True, n_beams=1, sampling_temp=0.7, use_gpu=True, seeding_scheme='simple_1', gamma=0.25, delta=2.0, normalizers=[], ignore_repeated_bigrams=False, detection_z_threshold=4.0, select_green_tokens=True, skip_model_load=False, seed_separately=True, is_seq2seq_model=False, is_decoder_only_model=True, default_prompt=\"The diamondback terrapin or simply terrapin (Malaclemys terrapin) is a species of turtle native to the brackish coastal tidal marshes of the Northeastern and southern United States, and in Bermuda.[6] It belongs to the monotypic genus Malaclemys. It has one of the largest ranges of all turtles in North America, stretching as far south as the Florida Keys and as far north as Cape Cod.[7] The name 'terrapin' is derived from the Algonquian word torope.[8] It applies to Malaclemys terrapin in both British English and American English. The name originally was used by early European settlers in North America to describe these brackish-water turtles that inhabited neither freshwater habitats nor the sea. It retains this primary meaning in American English.[8] In British English, however, other semi-aquatic turtle species, such as the red-eared slider, might also be called terrapins. The common name refers to the diamond pattern on top of its shell (carapace), but the overall pattern and coloration vary greatly. The shell is usually wider at the back than in the front, and from above it appears wedge-shaped. The shell coloring can vary from brown to grey, and its body color can be grey, brown, yellow, or white. All have a unique pattern of wiggly, black markings or spots on their body and head. The diamondback terrapin has large webbed feet.[9] The species is\"))\n",
            "--------------------------------------------------------------------------------\n",
            "################################################################################\n",
            "Output with watermark:\n",
            " distinguished from the common terrapin and the white-lipped terrapin by its more vivid (and often yellowish or orangeish) markings on its body and head.[10] The black markings on Malaclemys terrapin are due to the coloration of the light-colored chitin covering on the underside of the shell.\n",
            "\n",
            "The name of the species was adopted by the US Fish and Wildlife Service in 1975. The specific epithet terrapin derives from the Algonquian word torope. The name has become popular among the public. The most commonly seen location for the species is where the river and the coastal marshes of the Northeastern U.S. converge with the Atlantic Ocean, where they are known as tidal flats. The specific epithet terrapin derives from the Algonquian word terrapin. The specific epithet terrapin derives from the Algonquian word terrapin. The specific epithet terrapin\n",
            "--------------------------------------------------------------------------------\n",
            "Detection result @ 4.0:\n",
            "([['Tokens Counted (T)', '199'],\n",
            "  ['# Tokens in Greenlist', '108'],\n",
            "  ['Fraction of T in Greenlist', '54.3%'],\n",
            "  ['z-score', '9.54'],\n",
            "  ['p value', '7.42e-22'],\n",
            "  ['z-score Threshold', '4.0'],\n",
            "  ['Prediction', 'Watermarked'],\n",
            "  ['Confidence', '100.000%']],\n",
            " Namespace(run_gradio=True, demo_public=True, model_name_or_path='facebook/opt-1.3b', load_fp16=False, prompt_max_length=1848, max_new_tokens=200, generation_seed=123, use_sampling=True, n_beams=1, sampling_temp=0.7, use_gpu=True, seeding_scheme='simple_1', gamma=0.25, delta=2.0, normalizers=[], ignore_repeated_bigrams=False, detection_z_threshold=4.0, select_green_tokens=True, skip_model_load=False, seed_separately=True, is_seq2seq_model=False, is_decoder_only_model=True, default_prompt=\"The diamondback terrapin or simply terrapin (Malaclemys terrapin) is a species of turtle native to the brackish coastal tidal marshes of the Northeastern and southern United States, and in Bermuda.[6] It belongs to the monotypic genus Malaclemys. It has one of the largest ranges of all turtles in North America, stretching as far south as the Florida Keys and as far north as Cape Cod.[7] The name 'terrapin' is derived from the Algonquian word torope.[8] It applies to Malaclemys terrapin in both British English and American English. The name originally was used by early European settlers in North America to describe these brackish-water turtles that inhabited neither freshwater habitats nor the sea. It retains this primary meaning in American English.[8] In British English, however, other semi-aquatic turtle species, such as the red-eared slider, might also be called terrapins. The common name refers to the diamond pattern on top of its shell (carapace), but the overall pattern and coloration vary greatly. The shell is usually wider at the back than in the front, and from above it appears wedge-shaped. The shell coloring can vary from brown to grey, and its body color can be grey, brown, yellow, or white. All have a unique pattern of wiggly, black markings or spots on their body and head. The diamondback terrapin has large webbed feet.[9] The species is\"))\n",
            "--------------------------------------------------------------------------------\n",
            "Running on local URL:  http://127.0.0.1:7860\n",
            "IMPORTANT: You are using gradio version 3.39.0, however version 4.44.1 is available, please upgrade.\n",
            "--------\n",
            "Running on public URL: https://1fb3aa2417fc050a30.gradio.live\n",
            "\n",
            "This share link expires in 72 hours. For free permanent hosting and GPU upgrades, run `gradio deploy` from Terminal to deploy to Spaces (https://huggingface.co/spaces)\n"
          ]
        }
      ],
      "source": [
        "# Install dependencies\n",
        "!pip install -q --upgrade pip\n",
        "!pip install -q -r requirements.txt\n",
        "!pip install -q gradio==3.39.0\n",
        "!pip install -q gradio torch torchvision torchaudio --index-url https://download.pytorch.org/whl/cu118\n",
        "\n",
        "# Ensure GPU is available\n",
        "import torch\n",
        "if torch.cuda.is_available():\n",
        "    print(\"✅ GPU is available!\")\n",
        "else:\n",
        "    print(\"⚠️ GPU is not available. Check runtime settings.\")\n",
        "\n",
        "# Set CUDA environment variables to prevent conflicts\n",
        "import os\n",
        "os.environ[\"CUDA_LAUNCH_BLOCKING\"] = \"1\"\n",
        "os.environ[\"TF_CPP_MIN_LOG_LEVEL\"] = \"2\"\n",
        "\n",
        "# Run the application with controlled memory usage\n",
        "try:\n",
        "    !python app.py\n",
        "except KeyboardInterrupt:\n",
        "    print(\"⚠️ Process interrupted manually.\")\n",
        "except Exception as e:\n",
        "    print(f\"❌ Error running the app: {e}\")\n",
        "\n"
      ]
    }
  ]
}